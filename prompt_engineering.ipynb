{
 "cells": [
  {
   "cell_type": "code",
   "execution_count": 1,
   "id": "0cca38c2",
   "metadata": {},
   "outputs": [],
   "source": [
    "import json\n",
    "\n",
    "conv_data = json.load(open('./data/대화데이터.json', 'r'))['data']\n",
    "intent_data = json.load(open('./data/의도데이터.json', 'r'))['data']"
   ]
  },
  {
   "cell_type": "code",
   "execution_count": 2,
   "id": "5e90d734",
   "metadata": {},
   "outputs": [],
   "source": [
    "import os\n",
    "import openai\n",
    "\n",
    "\n",
    "API_KEY = \"xxxxxx\"\n",
    "\n",
    "def generate(prompt, temperature):\n",
    "    openai.api_key = API_KEY\n",
    "    completion = openai.ChatCompletion.create(\n",
    "        model=\"gpt-3.5-turbo\",\n",
    "        messages=prompt,\n",
    "        temperature=temperature\n",
    "    )\n",
    "    return completion.choices[0].message[\"content\"].strip()"
   ]
  },
  {
   "attachments": {},
   "cell_type": "markdown",
   "id": "06ca74ec",
   "metadata": {},
   "source": [
    "# Search Module"
   ]
  },
  {
   "cell_type": "code",
   "execution_count": 3,
   "id": "14861142",
   "metadata": {},
   "outputs": [
    {
     "data": {
      "application/vnd.jupyter.widget-view+json": {
       "model_id": "b75711f3db7d493b8474494ac3d6a69d",
       "version_major": 2,
       "version_minor": 0
      },
      "text/plain": [
       "Downloading (…)5f450/.gitattributes:   0%|          | 0.00/690 [00:00<?, ?B/s]"
      ]
     },
     "metadata": {},
     "output_type": "display_data"
    },
    {
     "data": {
      "application/vnd.jupyter.widget-view+json": {
       "model_id": "ad6e41c154774257a0eb2faf3fd4fc86",
       "version_major": 2,
       "version_minor": 0
      },
      "text/plain": [
       "Downloading (…)_Pooling/config.json:   0%|          | 0.00/190 [00:00<?, ?B/s]"
      ]
     },
     "metadata": {},
     "output_type": "display_data"
    },
    {
     "data": {
      "application/vnd.jupyter.widget-view+json": {
       "model_id": "069c8b34ca884b0bb406630b662d5005",
       "version_major": 2,
       "version_minor": 0
      },
      "text/plain": [
       "Downloading (…)/2_Dense/config.json:   0%|          | 0.00/114 [00:00<?, ?B/s]"
      ]
     },
     "metadata": {},
     "output_type": "display_data"
    },
    {
     "data": {
      "application/vnd.jupyter.widget-view+json": {
       "model_id": "2ece1433165d44c3a35fddee6718f025",
       "version_major": 2,
       "version_minor": 0
      },
      "text/plain": [
       "Downloading pytorch_model.bin:   0%|          | 0.00/1.58M [00:00<?, ?B/s]"
      ]
     },
     "metadata": {},
     "output_type": "display_data"
    },
    {
     "data": {
      "application/vnd.jupyter.widget-view+json": {
       "model_id": "89f22049b9304b0495417136d958470d",
       "version_major": 2,
       "version_minor": 0
      },
      "text/plain": [
       "Downloading (…)966465f450/README.md:   0%|          | 0.00/2.38k [00:00<?, ?B/s]"
      ]
     },
     "metadata": {},
     "output_type": "display_data"
    },
    {
     "data": {
      "application/vnd.jupyter.widget-view+json": {
       "model_id": "b140447388054d609ba711e14c1a1b9d",
       "version_major": 2,
       "version_minor": 0
      },
      "text/plain": [
       "Downloading (…)6465f450/config.json:   0%|          | 0.00/556 [00:00<?, ?B/s]"
      ]
     },
     "metadata": {},
     "output_type": "display_data"
    },
    {
     "data": {
      "application/vnd.jupyter.widget-view+json": {
       "model_id": "7497d2cf616e45198daefc53de973fe5",
       "version_major": 2,
       "version_minor": 0
      },
      "text/plain": [
       "Downloading (…)ce_transformers.json:   0%|          | 0.00/122 [00:00<?, ?B/s]"
      ]
     },
     "metadata": {},
     "output_type": "display_data"
    },
    {
     "data": {
      "application/vnd.jupyter.widget-view+json": {
       "model_id": "91ad5b927d014ac9b63be53bac2e401a",
       "version_major": 2,
       "version_minor": 0
      },
      "text/plain": [
       "Downloading pytorch_model.bin:   0%|          | 0.00/539M [00:00<?, ?B/s]"
      ]
     },
     "metadata": {},
     "output_type": "display_data"
    },
    {
     "data": {
      "application/vnd.jupyter.widget-view+json": {
       "model_id": "e565e4fc11c9425d8cf80053b9b91369",
       "version_major": 2,
       "version_minor": 0
      },
      "text/plain": [
       "Downloading (…)nce_bert_config.json:   0%|          | 0.00/53.0 [00:00<?, ?B/s]"
      ]
     },
     "metadata": {},
     "output_type": "display_data"
    },
    {
     "data": {
      "application/vnd.jupyter.widget-view+json": {
       "model_id": "200d423620fd48f991099e40b1d3390f",
       "version_major": 2,
       "version_minor": 0
      },
      "text/plain": [
       "Downloading (…)cial_tokens_map.json:   0%|          | 0.00/112 [00:00<?, ?B/s]"
      ]
     },
     "metadata": {},
     "output_type": "display_data"
    },
    {
     "data": {
      "application/vnd.jupyter.widget-view+json": {
       "model_id": "e0eaba0901d34f808bfcad76b9d1d083",
       "version_major": 2,
       "version_minor": 0
      },
      "text/plain": [
       "Downloading (…)5f450/tokenizer.json:   0%|          | 0.00/1.96M [00:00<?, ?B/s]"
      ]
     },
     "metadata": {},
     "output_type": "display_data"
    },
    {
     "data": {
      "application/vnd.jupyter.widget-view+json": {
       "model_id": "b38eb3d3c3b540eb95a4291dcc71cf00",
       "version_major": 2,
       "version_minor": 0
      },
      "text/plain": [
       "Downloading (…)okenizer_config.json:   0%|          | 0.00/452 [00:00<?, ?B/s]"
      ]
     },
     "metadata": {},
     "output_type": "display_data"
    },
    {
     "data": {
      "application/vnd.jupyter.widget-view+json": {
       "model_id": "31ee5e1111444d4481c2b30d83e57e79",
       "version_major": 2,
       "version_minor": 0
      },
      "text/plain": [
       "Downloading (…)966465f450/vocab.txt:   0%|          | 0.00/996k [00:00<?, ?B/s]"
      ]
     },
     "metadata": {},
     "output_type": "display_data"
    },
    {
     "data": {
      "application/vnd.jupyter.widget-view+json": {
       "model_id": "a7dea21e99c646028d447fa09e73feaa",
       "version_major": 2,
       "version_minor": 0
      },
      "text/plain": [
       "Downloading (…)465f450/modules.json:   0%|          | 0.00/341 [00:00<?, ?B/s]"
      ]
     },
     "metadata": {},
     "output_type": "display_data"
    }
   ],
   "source": [
    "# convert conversation documents to text embeddings\n",
    "from sentence_transformers import SentenceTransformer, util\n",
    "import torch\n",
    "\n",
    "embedder = SentenceTransformer('distiluse-base-multilingual-cased-v1')\n",
    "corpus = [conv['대화전문'] for conv in conv_data]\n",
    "corpus_embeddings = embedder.encode(corpus, convert_to_tensor=True)"
   ]
  },
  {
   "cell_type": "code",
   "execution_count": 4,
   "id": "a84d8d13",
   "metadata": {},
   "outputs": [],
   "source": [
    "# convert query to text embedding and do semantic search\n",
    "def search(query):\n",
    "    \n",
    "    query_embedding = embedder.encode(query, convert_to_tensor=True)\n",
    "\n",
    "    cos_scores = util.cos_sim(query_embedding, corpus_embeddings)[0]\n",
    "    top_results = torch.topk(cos_scores, k=3)\n",
    "\n",
    "    documents = '```\\n' + '\\n```\\n\\n```\\n'.join([corpus[idx] for idx in top_results[1]][::-1]) + '\\n```'\n",
    "    \n",
    "    return documents"
   ]
  },
  {
   "attachments": {},
   "cell_type": "markdown",
   "id": "579cc789",
   "metadata": {},
   "source": [
    "# Knowledge Module"
   ]
  },
  {
   "cell_type": "code",
   "execution_count": 5,
   "id": "8c6b997f",
   "metadata": {},
   "outputs": [],
   "source": [
    "# extract and summarize related imformation from documents\n",
    "def knowledge(conv, docs):\n",
    "    \n",
    "    prompt = [\n",
    "                {\"role\": \"user\", \"content\": f\"현재 대화:\\n```\\n{conv}```\\n\\n관련 대화:\\n{docs}\\n\\n현재 대화와 관련 있는 정보를 구체적으로 정리해줘.\"},\n",
    "            ]\n",
    "    knowledge_text = generate(prompt, 0.7)\n",
    "    \n",
    "    return knowledge_text"
   ]
  },
  {
   "attachments": {},
   "cell_type": "markdown",
   "id": "6c7e9634",
   "metadata": {},
   "source": [
    "# Intent Module"
   ]
  },
  {
   "cell_type": "code",
   "execution_count": 6,
   "id": "b2269b20",
   "metadata": {},
   "outputs": [],
   "source": [
    "# generate user intent given user question and conversation\n",
    "def intent(query, conv):\n",
    "    \n",
    "    query_embedding = embedder.encode(query, convert_to_tensor=True)\n",
    "\n",
    "    cos_scores = util.cos_sim(query_embedding, corpus_embeddings)[0]\n",
    "    top_results = torch.topk(cos_scores, k=5)\n",
    "\n",
    "    few_shot = '\\n\\n###\\n\\n'.join([f\"대화:\\n```\\n{intent_data[idx]['대화전문']}\\n```\\n\\n고객질문: {intent_data[idx]['고객질문'].strip('고객: ')}\\n\\n고객의도: {intent_data[idx]['고객의도']}\" for idx in top_results[1]][::-1])\n",
    "    few_shot += f\"\\n\\n###\\n\\n대화:\\n```\\n{conv}\\n\\n고객질문:{query.strip('고객: ')}\\n\\n고객의도:\"\n",
    "\n",
    "    prompt = [\n",
    "                {\"role\": \"user\", \"content\": few_shot},\n",
    "            ]\n",
    "    intent_text = generate(prompt, 0.7)\n",
    "    \n",
    "    return intent_text"
   ]
  },
  {
   "attachments": {},
   "cell_type": "markdown",
   "id": "efd4f9a7",
   "metadata": {},
   "source": [
    "# Dialog Module"
   ]
  },
  {
   "cell_type": "code",
   "execution_count": 7,
   "id": "d8459181",
   "metadata": {},
   "outputs": [],
   "source": [
    "conv = \"\"\"고객: 자동차 등록 어떻게 합니까?\n",
    "상담사: 자동차 명의 변경하십니까?\n",
    "고객: 네. 이전 등록하려합니다. \n",
    "상담사: 먼저 취득세 고지서를 발급하셔야 합니다. \n",
    "고객: 어디서 할 수 있습니까?\"\"\"\n",
    "\n",
    "query = \"고객: 어디서 할 수 있습니까?\""
   ]
  },
  {
   "cell_type": "code",
   "execution_count": 8,
   "id": "cf7ef9bd",
   "metadata": {},
   "outputs": [],
   "source": [
    "# generate answer to user question\n",
    "def dialog(query, conv):\n",
    "    \n",
    "    docs_text = search(query)\n",
    "    knowledge_text = knowledge(conv, docs_text)\n",
    "    intent_text = intent(query, conv)\n",
    "    \n",
    "    # print(docs_text)\n",
    "    \n",
    "    prompt = [\n",
    "                {\"role\": \"user\", \"content\": f\"관련대화:\\n{docs_text}\\n\\n관련정보:\\n```\\n{knowledge_text}\\n```\\n\\n주어진 정보를 바탕으로 현재 고객의 질문에 답변해줘\\n\\n고객의도:\\n```\\n{intent_text}\\n```\\n\\n현재대화:\\n```\\n{conv}\\n상담사:\"},\n",
    "            ]\n",
    "    dialog_text = generate(prompt, 0.7).split('\\n')[0].strip('```').strip()\n",
    "    \n",
    "    return dialog_text"
   ]
  },
  {
   "attachments": {},
   "cell_type": "markdown",
   "id": "822825f1",
   "metadata": {},
   "source": [
    "# Dialog System"
   ]
  },
  {
   "cell_type": "code",
   "execution_count": 9,
   "id": "5a39c12a",
   "metadata": {},
   "outputs": [],
   "source": [
    "def system():\n",
    "    \n",
    "    conv = ''\n",
    "    \n",
    "    while True:\n",
    "        query = input('고객: ')\n",
    "        if query == 'END':\n",
    "            break\n",
    "            \n",
    "        processed_query = '고객: ' + query\n",
    "        conv += processed_query\n",
    "        \n",
    "        answer = dialog(query, conv)\n",
    "        processed_answer = '상담사: ' + answer\n",
    "        print(processed_answer)\n",
    "        conv += f\"\\n{processed_answer}\\n\"\n",
    "        \n",
    "    return"
   ]
  },
  {
   "cell_type": "code",
   "execution_count": 10,
   "id": "acc418b6",
   "metadata": {},
   "outputs": [
    {
     "name": "stdout",
     "output_type": "stream",
     "text": [
      "고객: 속도위반으로 지로가 날라와서요\n",
      "상담사: 네. 지로에 운전자 확인과 미확인이란 것은 차 명의자의 범칙금과 차 명의자 외의 운전자의 범칙금이 다르게 부과된다는 것입니다. 자동차 소유주가 운전하셨는지에 따라 차이가 있습니다. 하지만, 운전자 확인 여부와 관련된 벌금의 크기는 자세히 알지 못합니다. 다른 궁금하신 점이 있으신가요?\n",
      "고객: 할인 받을 방법이 있나요?\n",
      "상담사: 교통범칙금 할인에 대한 정보는 제가 알고 있는 범위를 벗어나므로 정확한 안내를 드리기 어렵습니다. 교통범칙금 할인에 대한 자세한 내용은 해당 지자체나 교통안전공단 등 관련 기관에 문의하시면 도움이 될 것입니다.\n",
      "고객: 위반한 운전자가 파출소가서 납부하면 차이가 있나요?\n",
      "상담사: 네, 차 명의자가 직접 파출소에 방문하여 벌금을 납부하거나 온라인 단속조회 서비스를 이용하여 벌금을 납부하셔도 차 명의자와 운전자 확인 여부에 따라 벌금이 다르게 부과될 수 있습니다. 다른 궁금하신 점이 있으신가요?\n",
      "고객: 벌금이 어떻게 다르게 부과되나요?\n",
      "상담사: 차 명의자가 운전하셨을 경우에는 차 명의자의 범칙금이 부과되고, 운전자를 확인할 수 없는 경우에는 미확인 범칙금으로 부과됩니다. 미확인 범칙금은 차 명의자의 범칙금보다 높은 금액으로 부과되며, 범칙금 약정 기간이나 할부금 납부를 할 수 없습니다. 다른 궁금하신 점이 있으신가요?\n",
      "고객: END\n"
     ]
    }
   ],
   "source": [
    "system()"
   ]
  },
  {
   "cell_type": "code",
   "execution_count": null,
   "id": "a028c60a",
   "metadata": {},
   "outputs": [],
   "source": []
  }
 ],
 "metadata": {
  "kernelspec": {
   "display_name": "seoul_dialog",
   "language": "python",
   "name": "seoul_dialog"
  },
  "language_info": {
   "codemirror_mode": {
    "name": "ipython",
    "version": 3
   },
   "file_extension": ".py",
   "mimetype": "text/x-python",
   "name": "python",
   "nbconvert_exporter": "python",
   "pygments_lexer": "ipython3",
   "version": "3.11.3"
  }
 },
 "nbformat": 4,
 "nbformat_minor": 5
}
